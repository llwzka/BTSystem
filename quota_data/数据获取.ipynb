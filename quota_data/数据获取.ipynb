{
 "cells": [
  {
   "cell_type": "code",
   "execution_count": 34,
   "metadata": {},
   "outputs": [],
   "source": [
    "import pandas as pd\n",
    "\n",
    "context.future_list = ['J','IF','IH','IC','T','TF','RB','HC','I','JM','ZC','RU','MA','BU','PP','V','M','RM','AP','A','C','CS','CF','SR','P','Y'\n",
    "                      ,'OI','AG','AU','NI','TA','ZN','CU','AL']\n",
    "\n",
    "for i in context.future_list:\n",
    "    bb=get_price(i+'88', start_date=\"2013-01-01 00:00:00\", end_date=\"2018-08-20 00:00:00\", frequency='1m', fields=[\"open\",\"high\",\"low\",\"close\",\"volume\"], adjust_type='pre', skip_suspended=False, country='cn')\n",
    "\n",
    "    bb[\"Date\"] = bb.index.strftime('%Y/%m/%d')\n",
    "    bb['Time'] = bb.index.strftime('%H:%M:%S')\n",
    "\n",
    "    bb = bb[['Date','Time','open','high','low','close','volume']]\n",
    "    bb.columns = ['Date','Time','Open','High','Low','Close','Volume']\n",
    "    bb = bb.fillna(method='ffill')\n",
    "\n",
    "    bb.to_csv(i+'_total_data.csv',index=False)"
   ]
  }
 ],
 "metadata": {
  "kernelspec": {
   "display_name": "Python 3",
   "language": "python",
   "name": "python3"
  },
  "language_info": {
   "codemirror_mode": {
    "name": "ipython",
    "version": 3
   },
   "file_extension": ".py",
   "mimetype": "text/x-python",
   "name": "python",
   "nbconvert_exporter": "python",
   "pygments_lexer": "ipython3",
   "version": "3.5.5"
  }
 },
 "nbformat": 4,
 "nbformat_minor": 2
}
